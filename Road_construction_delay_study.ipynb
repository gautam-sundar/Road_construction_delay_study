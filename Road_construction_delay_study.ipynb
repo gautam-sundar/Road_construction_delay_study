{
 "cells": [
  {
   "cell_type": "code",
   "execution_count": 3,
   "metadata": {},
   "outputs": [],
   "source": [
    "import pandas as pd\n",
    "import numpy as np\n",
    "import re"
   ]
  },
  {
   "cell_type": "code",
   "execution_count": 28,
   "metadata": {},
   "outputs": [],
   "source": [
    "def import_road_data(sheet_name=None):\n",
    "    data_in = pd.read_excel('Data File_Road Construction Delay Study.xlsx', skiprows=7, sheet_name=sheet_name, usecols='B:BA', header=None)\n",
    "    data_in.loc[0:1, 0:] = data_in.loc[0:1, 0:].fillna(method='ffill', axis=1).fillna(value='')\n",
    "    \n",
    "    data_in.loc[0, 1:] = [re.sub('(.+\\:\\s+)', '', (col_name).strip()) for col_name in data_in.loc[0, 1:]]\n",
    "    data_in.loc[1, 1:] = [re.sub('(\\d+\\.)', '', (col_name).strip()) for col_name in data_in.loc[1, 1:]]\n",
    "    \n",
    "    header = pd.MultiIndex.from_arrays([data_in.loc[0, 1:], data_in.loc[1, 1:]])\n",
    "    \n",
    "    data_out = pd.DataFrame(data_in.loc[2:, 1:].values, columns=header, index=data_in.iloc[2:, 0])\n",
    "    data_out.index.name = 'Respondent Number'\n",
    "    data_out.columns.names = ['Category', 'Reason']\n",
    "\n",
    "    return data_out"
   ]
  }
 ],
 "metadata": {
  "kernelspec": {
   "display_name": "Python [conda env:anaconda3]",
   "language": "python",
   "name": "conda-env-anaconda3-py"
  },
  "language_info": {
   "codemirror_mode": {
    "name": "ipython",
    "version": 3
   },
   "file_extension": ".py",
   "mimetype": "text/x-python",
   "name": "python",
   "nbconvert_exporter": "python",
   "pygments_lexer": "ipython3",
   "version": "3.6.4"
  }
 },
 "nbformat": 4,
 "nbformat_minor": 2
}
